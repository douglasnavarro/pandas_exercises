{
 "cells": [
  {
   "cell_type": "markdown",
   "metadata": {},
   "source": [
    "# Ex2 - Getting and Knowing your Data"
   ]
  },
  {
   "cell_type": "markdown",
   "metadata": {},
   "source": [
    "This time we are going to pull data directly from the internet.\n",
    "Special thanks to: https://github.com/justmarkham for sharing the dataset and materials.\n",
    "\n",
    "### Step 1. Import the necessary libraries"
   ]
  },
  {
   "cell_type": "code",
   "execution_count": 1,
   "metadata": {},
   "outputs": [
    {
     "name": "stderr",
     "output_type": "stream",
     "text": [
      "b:\\dev\\pandas_exercises\\env\\lib\\importlib\\_bootstrap.py:222: RuntimeWarning: numpy.dtype size changed, may indicate binary incompatibility. Expected 96, got 88\n",
      "  return f(*args, **kwds)\n"
     ]
    }
   ],
   "source": [
    "import pandas as pd"
   ]
  },
  {
   "cell_type": "markdown",
   "metadata": {},
   "source": [
    "### Step 2. Import the dataset from this [address](https://raw.githubusercontent.com/justmarkham/DAT8/master/data/chipotle.tsv). "
   ]
  },
  {
   "cell_type": "code",
   "execution_count": 2,
   "metadata": {},
   "outputs": [],
   "source": [
    "url = 'https://raw.githubusercontent.com/justmarkham/DAT8/master/data/chipotle.tsv'\n",
    "    \n",
    "chipo = pd.read_csv(url, sep = '\\t')"
   ]
  },
  {
   "cell_type": "markdown",
   "metadata": {},
   "source": [
    "### Step 3. Assign it to a variable called chipo."
   ]
  },
  {
   "cell_type": "code",
   "execution_count": null,
   "metadata": {},
   "outputs": [],
   "source": []
  },
  {
   "cell_type": "markdown",
   "metadata": {},
   "source": [
    "### Step 4. See the first 10 entries"
   ]
  },
  {
   "cell_type": "code",
   "execution_count": 3,
   "metadata": {
    "scrolled": false
   },
   "outputs": [
    {
     "data": {
      "text/html": [
       "<div>\n",
       "<style scoped>\n",
       "    .dataframe tbody tr th:only-of-type {\n",
       "        vertical-align: middle;\n",
       "    }\n",
       "\n",
       "    .dataframe tbody tr th {\n",
       "        vertical-align: top;\n",
       "    }\n",
       "\n",
       "    .dataframe thead th {\n",
       "        text-align: right;\n",
       "    }\n",
       "</style>\n",
       "<table border=\"1\" class=\"dataframe\">\n",
       "  <thead>\n",
       "    <tr style=\"text-align: right;\">\n",
       "      <th></th>\n",
       "      <th>order_id</th>\n",
       "      <th>quantity</th>\n",
       "      <th>item_name</th>\n",
       "      <th>choice_description</th>\n",
       "      <th>item_price</th>\n",
       "    </tr>\n",
       "  </thead>\n",
       "  <tbody>\n",
       "    <tr>\n",
       "      <th>0</th>\n",
       "      <td>1</td>\n",
       "      <td>1</td>\n",
       "      <td>Chips and Fresh Tomato Salsa</td>\n",
       "      <td>NaN</td>\n",
       "      <td>$2.39</td>\n",
       "    </tr>\n",
       "    <tr>\n",
       "      <th>1</th>\n",
       "      <td>1</td>\n",
       "      <td>1</td>\n",
       "      <td>Izze</td>\n",
       "      <td>[Clementine]</td>\n",
       "      <td>$3.39</td>\n",
       "    </tr>\n",
       "    <tr>\n",
       "      <th>2</th>\n",
       "      <td>1</td>\n",
       "      <td>1</td>\n",
       "      <td>Nantucket Nectar</td>\n",
       "      <td>[Apple]</td>\n",
       "      <td>$3.39</td>\n",
       "    </tr>\n",
       "    <tr>\n",
       "      <th>3</th>\n",
       "      <td>1</td>\n",
       "      <td>1</td>\n",
       "      <td>Chips and Tomatillo-Green Chili Salsa</td>\n",
       "      <td>NaN</td>\n",
       "      <td>$2.39</td>\n",
       "    </tr>\n",
       "    <tr>\n",
       "      <th>4</th>\n",
       "      <td>2</td>\n",
       "      <td>2</td>\n",
       "      <td>Chicken Bowl</td>\n",
       "      <td>[Tomatillo-Red Chili Salsa (Hot), [Black Beans...</td>\n",
       "      <td>$16.98</td>\n",
       "    </tr>\n",
       "    <tr>\n",
       "      <th>5</th>\n",
       "      <td>3</td>\n",
       "      <td>1</td>\n",
       "      <td>Chicken Bowl</td>\n",
       "      <td>[Fresh Tomato Salsa (Mild), [Rice, Cheese, Sou...</td>\n",
       "      <td>$10.98</td>\n",
       "    </tr>\n",
       "    <tr>\n",
       "      <th>6</th>\n",
       "      <td>3</td>\n",
       "      <td>1</td>\n",
       "      <td>Side of Chips</td>\n",
       "      <td>NaN</td>\n",
       "      <td>$1.69</td>\n",
       "    </tr>\n",
       "    <tr>\n",
       "      <th>7</th>\n",
       "      <td>4</td>\n",
       "      <td>1</td>\n",
       "      <td>Steak Burrito</td>\n",
       "      <td>[Tomatillo Red Chili Salsa, [Fajita Vegetables...</td>\n",
       "      <td>$11.75</td>\n",
       "    </tr>\n",
       "    <tr>\n",
       "      <th>8</th>\n",
       "      <td>4</td>\n",
       "      <td>1</td>\n",
       "      <td>Steak Soft Tacos</td>\n",
       "      <td>[Tomatillo Green Chili Salsa, [Pinto Beans, Ch...</td>\n",
       "      <td>$9.25</td>\n",
       "    </tr>\n",
       "    <tr>\n",
       "      <th>9</th>\n",
       "      <td>5</td>\n",
       "      <td>1</td>\n",
       "      <td>Steak Burrito</td>\n",
       "      <td>[Fresh Tomato Salsa, [Rice, Black Beans, Pinto...</td>\n",
       "      <td>$9.25</td>\n",
       "    </tr>\n",
       "  </tbody>\n",
       "</table>\n",
       "</div>"
      ],
      "text/plain": [
       "   order_id  quantity                              item_name  \\\n",
       "0         1         1           Chips and Fresh Tomato Salsa   \n",
       "1         1         1                                   Izze   \n",
       "2         1         1                       Nantucket Nectar   \n",
       "3         1         1  Chips and Tomatillo-Green Chili Salsa   \n",
       "4         2         2                           Chicken Bowl   \n",
       "5         3         1                           Chicken Bowl   \n",
       "6         3         1                          Side of Chips   \n",
       "7         4         1                          Steak Burrito   \n",
       "8         4         1                       Steak Soft Tacos   \n",
       "9         5         1                          Steak Burrito   \n",
       "\n",
       "                                  choice_description item_price  \n",
       "0                                                NaN     $2.39   \n",
       "1                                       [Clementine]     $3.39   \n",
       "2                                            [Apple]     $3.39   \n",
       "3                                                NaN     $2.39   \n",
       "4  [Tomatillo-Red Chili Salsa (Hot), [Black Beans...    $16.98   \n",
       "5  [Fresh Tomato Salsa (Mild), [Rice, Cheese, Sou...    $10.98   \n",
       "6                                                NaN     $1.69   \n",
       "7  [Tomatillo Red Chili Salsa, [Fajita Vegetables...    $11.75   \n",
       "8  [Tomatillo Green Chili Salsa, [Pinto Beans, Ch...     $9.25   \n",
       "9  [Fresh Tomato Salsa, [Rice, Black Beans, Pinto...     $9.25   "
      ]
     },
     "execution_count": 3,
     "metadata": {},
     "output_type": "execute_result"
    }
   ],
   "source": [
    "chipo[:10]\n",
    "#or chipo.head(10)"
   ]
  },
  {
   "cell_type": "markdown",
   "metadata": {},
   "source": [
    "### Step 5. What is the number of observations in the dataset?"
   ]
  },
  {
   "cell_type": "code",
   "execution_count": 4,
   "metadata": {},
   "outputs": [
    {
     "name": "stdout",
     "output_type": "stream",
     "text": [
      "<class 'pandas.core.frame.DataFrame'>\n",
      "RangeIndex: 4622 entries, 0 to 4621\n",
      "Data columns (total 5 columns):\n",
      "order_id              4622 non-null int64\n",
      "quantity              4622 non-null int64\n",
      "item_name             4622 non-null object\n",
      "choice_description    3376 non-null object\n",
      "item_price            4622 non-null object\n",
      "dtypes: int64(2), object(3)\n",
      "memory usage: 180.6+ KB\n"
     ]
    }
   ],
   "source": [
    "# Solution 1\n",
    "chipo.info()"
   ]
  },
  {
   "cell_type": "code",
   "execution_count": 5,
   "metadata": {},
   "outputs": [
    {
     "data": {
      "text/plain": [
       "4622"
      ]
     },
     "execution_count": 5,
     "metadata": {},
     "output_type": "execute_result"
    }
   ],
   "source": [
    "# Solution 2\n",
    "len(chipo)"
   ]
  },
  {
   "cell_type": "code",
   "execution_count": 6,
   "metadata": {},
   "outputs": [
    {
     "data": {
      "text/plain": [
       "4622"
      ]
     },
     "execution_count": 6,
     "metadata": {},
     "output_type": "execute_result"
    }
   ],
   "source": [
    "# Solution 3!\n",
    "chipo.shape[0]"
   ]
  },
  {
   "cell_type": "markdown",
   "metadata": {},
   "source": [
    "### Step 6. What is the number of columns in the dataset?"
   ]
  },
  {
   "cell_type": "code",
   "execution_count": 7,
   "metadata": {},
   "outputs": [
    {
     "data": {
      "text/plain": [
       "5"
      ]
     },
     "execution_count": 7,
     "metadata": {},
     "output_type": "execute_result"
    }
   ],
   "source": [
    "# chipo.info shows it but we can also use\n",
    "chipo.shape[1]"
   ]
  },
  {
   "cell_type": "markdown",
   "metadata": {},
   "source": [
    "### Step 7. Print the name of all the columns."
   ]
  },
  {
   "cell_type": "code",
   "execution_count": 8,
   "metadata": {},
   "outputs": [
    {
     "data": {
      "text/plain": [
       "Index(['order_id', 'quantity', 'item_name', 'choice_description',\n",
       "       'item_price'],\n",
       "      dtype='object')"
      ]
     },
     "execution_count": 8,
     "metadata": {},
     "output_type": "execute_result"
    }
   ],
   "source": [
    "chipo.columns"
   ]
  },
  {
   "cell_type": "markdown",
   "metadata": {},
   "source": [
    "### Step 8. How is the dataset indexed?"
   ]
  },
  {
   "cell_type": "code",
   "execution_count": 9,
   "metadata": {},
   "outputs": [
    {
     "data": {
      "text/plain": [
       "RangeIndex(start=0, stop=4622, step=1)"
      ]
     },
     "execution_count": 9,
     "metadata": {},
     "output_type": "execute_result"
    }
   ],
   "source": [
    "chipo.index"
   ]
  },
  {
   "cell_type": "markdown",
   "metadata": {},
   "source": [
    "### Step 9. Which was the most-ordered item? "
   ]
  },
  {
   "cell_type": "code",
   "execution_count": 10,
   "metadata": {},
   "outputs": [
    {
     "name": "stdout",
     "output_type": "stream",
     "text": [
      "{'Chips and Tomatillo Green Chili Salsa': Int64Index([  38,  232,  235,  366,  537,  627,  655,  703,  782,  809,  916,\n",
      "            1157, 1259, 1518, 1568, 1573, 1577, 1583, 1589, 1593, 1847, 2296,\n",
      "            2641, 2655, 3257, 3402, 3479, 3513, 3522, 3560, 3562, 3624, 3817,\n",
      "            3901, 3975, 3992, 3995, 4129, 4254, 4328, 4400, 4476, 4493],\n",
      "           dtype='int64'), 'Barbacoa Bowl': Int64Index([  39,   58,   95,  115,  127,  136,  219,  254,  418,  471,  592,\n",
      "             750,  803,  804,  840,  919, 1032, 1068, 1174, 1175, 1179, 1235,\n",
      "            1236, 1264, 1347, 1357, 1383, 1417, 1419, 1420, 1643, 1650, 1670,\n",
      "            1746, 1804, 1970, 2013, 2073, 2253, 2372, 2399, 2517, 2620, 2667,\n",
      "            2749, 2762, 2800, 3017, 3025, 3195, 3245, 3253, 3376, 3394, 3547,\n",
      "            3549, 3822, 4046, 4056, 4135, 4140, 4380, 4441, 4485, 4510, 4594],\n",
      "           dtype='int64'), 'Steak Soft Tacos': Int64Index([   8,   61,   65,   84,  118,  175,  184,  266,  278,  293,  299,\n",
      "             342,  390,  494,  570,  961,  968, 1353, 1365, 1542, 1617, 1721,\n",
      "            1912, 1979, 2139, 2144, 2250, 2450, 2654, 2732, 2840, 2844, 2879,\n",
      "            3105, 3205, 3452, 3473, 3569, 3597, 3625, 3705, 3710, 3796, 3870,\n",
      "            3900, 3910, 4038, 4052, 4130, 4181, 4230, 4287, 4297, 4354, 4549],\n",
      "           dtype='int64'), 'Chips and Mild Fresh Tomato Salsa': Int64Index([674], dtype='int64'), 'Barbacoa Salad Bowl': Int64Index([1229, 1326, 1418, 1421, 1825, 2442, 3208, 3356, 3546, 4390], dtype='int64'), 'Chicken Soft Tacos': Int64Index([  12,   35,   36,   75,   79,  313,  324,  332,  333,  344,\n",
      "            ...\n",
      "            4162, 4247, 4290, 4311, 4438, 4474, 4502, 4514, 4550, 4615],\n",
      "           dtype='int64', length=115), 'Veggie Soft Tacos': Int64Index([738, 781, 1395, 1699, 2384, 2851, 3889], dtype='int64'), 'Chicken Crispy Tacos': Int64Index([  11,  217,  365,  598,  600,  768,  830,  866,  885,  946, 1006,\n",
      "            1027, 1345, 1844, 2375, 2422, 2507, 2515, 2549, 2556, 2604, 2651,\n",
      "            2668, 2908, 2912, 2965, 3041, 3072, 3077, 3078, 3099, 3192, 3240,\n",
      "            3309, 3324, 3372, 3472, 3593, 3631, 3638, 3816, 3891, 4116, 4322,\n",
      "            4346, 4371, 4453],\n",
      "           dtype='int64'), 'Veggie Salad': Int64Index([1694, 2756, 2996, 3163, 3471, 4084], dtype='int64'), '6 Pack Soft Drink': Int64Index([ 298,  341,  357,  388,  417,  553,  639,  721,  743,  879, 1026,\n",
      "            1051, 1124, 1167, 1260, 1279, 1392, 1755, 1758, 1849, 1860, 1916,\n",
      "            1922, 1937, 1976, 2108, 2232, 2374, 2389, 2713, 2793, 2860, 3010,\n",
      "            3132, 3141, 3389, 3422, 3600, 3614, 3633, 3693, 3766, 3789, 3806,\n",
      "            3836, 3875, 3886, 4169, 4174, 4359, 4363, 4522, 4527, 4535],\n",
      "           dtype='int64'), 'Veggie Crispy Tacos': Int64Index([1653], dtype='int64'), 'Steak Salad Bowl': Int64Index([ 281,  606,  607,  613,  749, 1159, 1311, 1505, 1571, 1590, 1816,\n",
      "            2401, 2439, 2600, 2624, 2740, 2804, 2957, 3098, 3120, 3350, 3493,\n",
      "            4036, 4241, 4313, 4391, 4419, 4547, 4572],\n",
      "           dtype='int64'), 'Steak Burrito': Int64Index([   7,    9,   31,   43,   46,   48,   50,   64,   67,   69,\n",
      "            ...\n",
      "            4445, 4446, 4473, 4508, 4536, 4546, 4607, 4610, 4617, 4618],\n",
      "           dtype='int64', length=368), 'Carnitas Crispy Tacos': Int64Index([554, 1008, 1195, 1632, 1838, 3890, 4450], dtype='int64'), 'Nantucket Nectar': Int64Index([   2,   22,  105,  173,  205,  436,  601,  925, 1356, 1585, 1626,\n",
      "            1706, 2162, 2379, 2381, 2430, 2653, 2818, 2838, 2853, 2949, 3318,\n",
      "            3368, 3570, 3845, 4019, 4078],\n",
      "           dtype='int64'), 'Veggie Bowl': Int64Index([  62,   85,  143,  157,  164,  192,  210,  253,  287,  512,  515,\n",
      "             530,  555,  619,  643,  677,  737,  831,  832,  843,  846,  887,\n",
      "             901,  936, 1242, 1297, 1319, 1363, 1374, 1404, 1428, 1433, 1441,\n",
      "            1454, 1622, 1644, 1749, 1833, 1841, 1863, 1875, 2028, 2034, 2039,\n",
      "            2063, 2123, 2326, 2376, 2392, 2444, 2471, 2530, 2565, 2568, 2673,\n",
      "            2773, 2795, 2803, 2903, 2939, 3082, 3095, 3146, 3148, 3165, 3275,\n",
      "            3397, 3412, 3617, 3659, 3677, 3735, 3745, 3820, 3877, 4080, 4153,\n",
      "            4177, 4224, 4265, 4282, 4315, 4336, 4452, 4468],\n",
      "           dtype='int64'), 'Veggie Burrito': Int64Index([  57,  104,  225,  394,  435,  467,  469,  479,  497,  535,  623,\n",
      "             631,  662,  710,  714,  732,  745,  761,  771,  797,  813,  827,\n",
      "             847,  874,  891,  931,  972,  973, 1038, 1074, 1105, 1145, 1193,\n",
      "            1252, 1256, 1261, 1349, 1394, 1440, 1459, 1497, 1631, 1652, 1695,\n",
      "            1768, 1778, 1959, 1982, 2067, 2084, 2096, 2177, 2218, 2219, 2280,\n",
      "            2425, 2482, 2605, 2638, 2685, 2755, 2849, 2911, 3029, 3036, 3037,\n",
      "            3056, 3113, 3164, 3234, 3235, 3274, 3351, 3367, 3404, 3469, 3470,\n",
      "            3478, 3542, 3601, 3755, 3776, 3821, 3847, 3912, 3954, 4018, 4083,\n",
      "            4134, 4278, 4319, 4471, 4519, 4608, 4611],\n",
      "           dtype='int64'), 'Steak Bowl': Int64Index([  54,   86,   90,   91,  102,  187,  207,  215,  243,  259,\n",
      "            ...\n",
      "            4307, 4308, 4364, 4366, 4387, 4427, 4449, 4459, 4470, 4518],\n",
      "           dtype='int64', length=211), 'Carnitas Salad': Int64Index([3750], dtype='int64'), 'Steak Crispy Tacos': Int64Index([  92,  437,  581,  729,  774,  918, 1020, 1168, 1327, 1451, 2025,\n",
      "            2227, 2231, 2418, 2461, 2629, 2812, 2842, 2862, 2874, 2963, 3075,\n",
      "            3085, 3406, 3439, 3503, 3606, 3694, 3778, 3946, 3950, 3994, 4014,\n",
      "            4523, 4554],\n",
      "           dtype='int64'), 'Chicken Bowl': Int64Index([   4,    5,   13,   19,   26,   42,   76,   78,   99,  110,\n",
      "            ...\n",
      "            4581, 4583, 4586, 4587, 4589, 4590, 4591, 4595, 4599, 4604],\n",
      "           dtype='int64', length=726), 'Side of Chips': Int64Index([   6,   32,   70,  149,  275,  279,  307,  386,  413,  432,\n",
      "            ...\n",
      "            3719, 3726, 3846, 3887, 3898, 3911, 3934, 4055, 4057, 4070],\n",
      "           dtype='int64', length=101), 'Carnitas Salad Bowl': Int64Index([1132, 1865, 2610, 3115, 3749, 4239], dtype='int64'), 'Barbacoa Crispy Tacos': Int64Index([168, 255, 429, 485, 763, 829, 1019, 1866, 1903, 2787, 3321], dtype='int64'), 'Carnitas Burrito': Int64Index([  27,   88,   93,  239,  373,  421,  462,  478,  626,  652,  691,\n",
      "             767,  835,  865,  959,  974, 1063, 1097, 1127, 1197, 1238, 1287,\n",
      "            1337, 1462, 1627, 1677, 1909, 1947, 2032, 2092, 2239, 2270, 2382,\n",
      "            2454, 2523, 2581, 2586, 2686, 2697, 2790, 2884, 2951, 3252, 3421,\n",
      "            3441, 3529, 3619, 3757, 3803, 3882, 4041, 4141, 4249, 4386, 4421,\n",
      "            4437, 4482, 4487, 4578],\n",
      "           dtype='int64'), 'Veggie Salad Bowl': Int64Index([ 186,  295,  455,  496,  960, 1316, 1884, 2156, 2223, 2269, 2683,\n",
      "            3223, 3293, 4109, 4201, 4261, 4541, 4573],\n",
      "           dtype='int64'), 'Chips': Int64Index([  40,   59,   77,   80,  208,  221,  223,  226,  283,  305,\n",
      "            ...\n",
      "            4426, 4429, 4455, 4472, 4497, 4505, 4509, 4525, 4584, 4613],\n",
      "           dtype='int64', length=211), 'Canned Soda': Int64Index([  18,   28,   51,   53,  107,  117,  126,  162,  171,  179,\n",
      "            ...\n",
      "            3716, 3718, 3740, 3793, 3866, 3897, 3926, 3936, 4008, 4051],\n",
      "           dtype='int64', length=104), 'Chips and Tomatillo Red Chili Salsa': Int64Index([ 111,  128,  356,  443,  593,  838, 1191, 1313, 1348, 1382, 1491,\n",
      "            1620, 1665, 1671, 1732, 1736, 1896, 1915, 1932, 1992, 1999, 2004,\n",
      "            2058, 2103, 2229, 2281, 2330, 2426, 2575, 2576, 2622, 2665, 2743,\n",
      "            2877, 3136, 3292, 3429, 3430, 3482, 3729, 4040, 4131, 4156, 4312,\n",
      "            4320, 4409, 4412, 4466],\n",
      "           dtype='int64'), 'Chips and Roasted Chili-Corn Salsa': Int64Index([ 191,  648, 1180, 1458, 1628, 2053, 2140, 2301, 2371, 2907, 3024,\n",
      "            3054, 3194, 3206, 3268, 3398, 3628, 3905],\n",
      "           dtype='int64'), 'Barbacoa Burrito': Int64Index([  21,   81,  121,  130,  144,  222,  249,  334,  375,  385,  397,\n",
      "             450,  502,  543,  557,  561,  574,  575,  586,  602,  615,  717,\n",
      "             723,  742,  756,  853,  854,  859,  878,  888,  903,  981, 1055,\n",
      "            1100, 1119, 1151, 1187, 1202, 1300, 1531, 1532, 1584, 1599, 1648,\n",
      "            1812, 1846, 2131, 2243, 2257, 2323, 2398, 2400, 2462, 2521, 2585,\n",
      "            2660, 2707, 2718, 2786, 2935, 2962, 2966, 2986, 3008, 3031, 3060,\n",
      "            3149, 3156, 3276, 3301, 3345, 3391, 3420, 3512, 3632, 3696, 3786,\n",
      "            3795, 3809, 3813, 3827, 3902, 4002, 4039, 4288, 4347, 4355, 4358,\n",
      "            4592, 4602, 4603],\n",
      "           dtype='int64'), 'Bowl': Int64Index([445, 673], dtype='int64'), 'Burrito': Int64Index([510, 511, 519, 675, 759, 760], dtype='int64'), 'Chips and Tomatillo-Green Chili Salsa': Int64Index([   3,   15,   30,  113,  133,  153,  165,  198,  271,  578,  982,\n",
      "            1010, 1018, 1084, 1218, 1263, 1615, 1935, 1967, 2161, 2656, 2848,\n",
      "            3143, 3320, 3573, 3626, 3657, 3788, 3810, 3871, 4007],\n",
      "           dtype='int64'), 'Carnitas Soft Tacos': Int64Index([ 237,  405,  453,  565,  590,  667,  755,  820, 1186, 1390, 1437,\n",
      "            1587, 1668, 1772, 1789, 1963, 2000, 2080, 2119, 2201, 2247, 2298,\n",
      "            2299, 2551, 2715, 2898, 3067, 3308, 3340, 3341, 3620, 3688, 3695,\n",
      "            3814, 3940, 4095, 4136, 4147, 4326, 4557],\n",
      "           dtype='int64'), 'Chicken Burrito': Int64Index([  16,   17,   23,   29,   45,   52,   63,   68,   73,   82,\n",
      "            ...\n",
      "            4524, 4528, 4530, 4533, 4543, 4556, 4558, 4559, 4566, 4569],\n",
      "           dtype='int64', length=553), 'Bottled Water': Int64Index([  34,   87,  318,  329,  376,  475,  540,  594,  653,  701,\n",
      "            ...\n",
      "            4479, 4507, 4517, 4542, 4544, 4568, 4570, 4582, 4598, 4614],\n",
      "           dtype='int64', length=162), 'Carnitas Bowl': Int64Index([  33,   97,  145,  163,  399,  433,  506,  538,  822,  833,  851,\n",
      "             984, 1200, 1212, 1244, 1294, 1341, 1344, 1359, 1376, 1393, 1430,\n",
      "            1594, 1679, 1740, 1767, 1873, 1908, 1917, 2027, 2033, 2194, 2233,\n",
      "            2268, 2368, 2404, 2488, 2537, 2547, 2557, 2567, 2647, 2719, 2725,\n",
      "            2733, 2887, 2913, 2914, 2926, 2980, 3004, 3103, 3244, 3338, 3480,\n",
      "            3525, 3711, 3792, 4044, 4168, 4374, 4428, 4475, 4500, 4504, 4562,\n",
      "            4593, 4612],\n",
      "           dtype='int64'), 'Barbacoa Soft Tacos': Int64Index([  56,  181,  268,  611,  857,  988, 1129, 1149, 1240, 1334, 1391,\n",
      "            1642, 1669, 1754, 1985, 2083, 2248, 2259, 2434, 2780, 3184, 3211,\n",
      "            3548, 4182, 4271],\n",
      "           dtype='int64'), 'Canned Soft Drink': Int64Index([ 263,  292,  320,  337,  346,  347,  368,  380,  381,  393,\n",
      "            ...\n",
      "            4552, 4560, 4565, 4571, 4577, 4585, 4597, 4601, 4606, 4609],\n",
      "           dtype='int64', length=301), 'Chips and Fresh Tomato Salsa': Int64Index([   0,   25,   55,   89,  183,  194,  240,  265,  267,  302,\n",
      "            ...\n",
      "            4065, 4073, 4090, 4102, 4163, 4231, 4318, 4324, 4425, 4503],\n",
      "           dtype='int64', length=110), 'Izze': Int64Index([   1,   24,   47,   66,  359,  360,  430,  579,  580, 1059, 1213,\n",
      "            1611, 1612, 1680, 2088, 2619, 2634, 2758, 2891, 3669],\n",
      "           dtype='int64'), 'Crispy Tacos': Int64Index([520, 521], dtype='int64'), 'Chips and Roasted Chili Corn Salsa': Int64Index([ 233,  562,  708,  841,  906, 1067, 1150, 1292, 1358, 1371, 1450,\n",
      "            1555, 1597, 1658, 1925, 1962, 2346, 2373, 2602, 2967, 3449, 3780],\n",
      "           dtype='int64'), 'Chips and Tomatillo-Red Chili Salsa': Int64Index([ 300,  349,  692, 1101, 1181, 1533, 1534, 1763, 1857, 2011, 2550,\n",
      "            2972, 3052, 3171, 3270, 3358, 3558, 3650, 3660, 4088],\n",
      "           dtype='int64'), 'Chicken Salad Bowl': Int64Index([  44,  135,  213,  256,  315,  526,  528,  529,  568,  585,\n",
      "            ...\n",
      "            4352, 4388, 4439, 4467, 4520, 4561, 4580, 4619, 4620, 4621],\n",
      "           dtype='int64', length=110), 'Steak Salad': Int64Index([664, 752, 893, 3502], dtype='int64'), 'Chips and Guacamole': Int64Index([  10,   14,   20,   37,   41,   49,   60,   72,   74,   94,\n",
      "            ...\n",
      "            4551, 4563, 4567, 4575, 4579, 4588, 4596, 4600, 4605, 4616],\n",
      "           dtype='int64', length=479), 'Salad': Int64Index([1414, 1415], dtype='int64'), 'Chicken Salad': Int64Index([250, 1065, 2968, 3045, 3363, 3730, 3733, 3982, 3989], dtype='int64')}\n"
     ]
    }
   ],
   "source": [
    "c = chipo.groupby('item_name')\n",
    "print(c.groups)\n"
   ]
  },
  {
   "cell_type": "code",
   "execution_count": 11,
   "metadata": {},
   "outputs": [
    {
     "name": "stdout",
     "output_type": "stream",
     "text": [
      "                                       order_id  quantity\n",
      "item_name                                                \n",
      "6 Pack Soft Drink                         52322        55\n",
      "Barbacoa Bowl                             53972        66\n",
      "Barbacoa Burrito                          74718        91\n",
      "Barbacoa Crispy Tacos                      5613        12\n",
      "Barbacoa Salad Bowl                        9708        10\n",
      "Barbacoa Soft Tacos                       18725        25\n",
      "Bottled Water                            175944       211\n",
      "Bowl                                        472         4\n",
      "Burrito                                    1550         6\n",
      "Canned Soda                               76396       126\n",
      "Canned Soft Drink                        304753       351\n",
      "Carnitas Bowl                             62742        71\n",
      "Carnitas Burrito                          51652        60\n",
      "Carnitas Crispy Tacos                      5868         8\n",
      "Carnitas Salad                             1500         1\n",
      "Carnitas Salad Bowl                        6693         6\n",
      "Carnitas Soft Tacos                       37673        40\n",
      "Chicken Bowl                             713926       761\n",
      "Chicken Burrito                          497303       591\n",
      "Chicken Crispy Tacos                      47382        50\n",
      "Chicken Salad                             10465         9\n",
      "Chicken Salad Bowl                       117104       123\n",
      "Chicken Soft Tacos                        98395       120\n",
      "Chips                                    208004       230\n",
      "Chips and Fresh Tomato Salsa             100419       130\n",
      "Chips and Guacamole                      449959       506\n",
      "Chips and Mild Fresh Tomato Salsa           279         1\n",
      "Chips and Roasted Chili Corn Salsa        14999        23\n",
      "Chips and Roasted Chili-Corn Salsa        17462        18\n",
      "Chips and Tomatillo Green Chili Salsa     41170        45\n",
      "Chips and Tomatillo Red Chili Salsa       45556        50\n",
      "Chips and Tomatillo-Green Chili Salsa     21826        33\n",
      "Chips and Tomatillo-Red Chili Salsa       18344        25\n",
      "Crispy Tacos                                434         2\n",
      "Izze                                      10587        20\n",
      "Nantucket Nectar                          21814        29\n",
      "Salad                                      1150         2\n",
      "Side of Chips                             84769       110\n",
      "Steak Bowl                               193752       221\n",
      "Steak Burrito                            328437       386\n",
      "Steak Crispy Tacos                        35818        36\n",
      "Steak Salad                                2362         4\n",
      "Steak Salad Bowl                          29590        31\n",
      "Steak Soft Tacos                          50177        56\n",
      "Veggie Bowl                               72270        87\n",
      "Veggie Burrito                            80962        97\n",
      "Veggie Crispy Tacos                         668         1\n",
      "Veggie Salad                               7265         6\n",
      "Veggie Salad Bowl                         17303        18\n",
      "Veggie Soft Tacos                          5520         8\n"
     ]
    }
   ],
   "source": [
    "c = c.sum()\n",
    "print(c)"
   ]
  },
  {
   "cell_type": "markdown",
   "metadata": {},
   "source": [
    "### Step 10. For the most-ordered item, how many items were ordered?"
   ]
  },
  {
   "cell_type": "code",
   "execution_count": 12,
   "metadata": {},
   "outputs": [
    {
     "data": {
      "text/html": [
       "<div>\n",
       "<style scoped>\n",
       "    .dataframe tbody tr th:only-of-type {\n",
       "        vertical-align: middle;\n",
       "    }\n",
       "\n",
       "    .dataframe tbody tr th {\n",
       "        vertical-align: top;\n",
       "    }\n",
       "\n",
       "    .dataframe thead th {\n",
       "        text-align: right;\n",
       "    }\n",
       "</style>\n",
       "<table border=\"1\" class=\"dataframe\">\n",
       "  <thead>\n",
       "    <tr style=\"text-align: right;\">\n",
       "      <th></th>\n",
       "      <th>order_id</th>\n",
       "      <th>quantity</th>\n",
       "    </tr>\n",
       "    <tr>\n",
       "      <th>item_name</th>\n",
       "      <th></th>\n",
       "      <th></th>\n",
       "    </tr>\n",
       "  </thead>\n",
       "  <tbody>\n",
       "    <tr>\n",
       "      <th>Chicken Bowl</th>\n",
       "      <td>713926</td>\n",
       "      <td>761</td>\n",
       "    </tr>\n",
       "    <tr>\n",
       "      <th>Chicken Burrito</th>\n",
       "      <td>497303</td>\n",
       "      <td>591</td>\n",
       "    </tr>\n",
       "    <tr>\n",
       "      <th>Chips and Guacamole</th>\n",
       "      <td>449959</td>\n",
       "      <td>506</td>\n",
       "    </tr>\n",
       "    <tr>\n",
       "      <th>Steak Burrito</th>\n",
       "      <td>328437</td>\n",
       "      <td>386</td>\n",
       "    </tr>\n",
       "    <tr>\n",
       "      <th>Canned Soft Drink</th>\n",
       "      <td>304753</td>\n",
       "      <td>351</td>\n",
       "    </tr>\n",
       "  </tbody>\n",
       "</table>\n",
       "</div>"
      ],
      "text/plain": [
       "                     order_id  quantity\n",
       "item_name                              \n",
       "Chicken Bowl           713926       761\n",
       "Chicken Burrito        497303       591\n",
       "Chips and Guacamole    449959       506\n",
       "Steak Burrito          328437       386\n",
       "Canned Soft Drink      304753       351"
      ]
     },
     "execution_count": 12,
     "metadata": {},
     "output_type": "execute_result"
    }
   ],
   "source": [
    "c = c.sort_values(['quantity'], ascending=False)\n",
    "c.head()"
   ]
  },
  {
   "cell_type": "markdown",
   "metadata": {},
   "source": [
    "### Step 11. What was the most ordered item in the choice_description column?"
   ]
  },
  {
   "cell_type": "code",
   "execution_count": 13,
   "metadata": {},
   "outputs": [
    {
     "data": {
      "text/html": [
       "<div>\n",
       "<style scoped>\n",
       "    .dataframe tbody tr th:only-of-type {\n",
       "        vertical-align: middle;\n",
       "    }\n",
       "\n",
       "    .dataframe tbody tr th {\n",
       "        vertical-align: top;\n",
       "    }\n",
       "\n",
       "    .dataframe thead th {\n",
       "        text-align: right;\n",
       "    }\n",
       "</style>\n",
       "<table border=\"1\" class=\"dataframe\">\n",
       "  <thead>\n",
       "    <tr style=\"text-align: right;\">\n",
       "      <th></th>\n",
       "      <th>order_id</th>\n",
       "      <th>quantity</th>\n",
       "    </tr>\n",
       "    <tr>\n",
       "      <th>choice_description</th>\n",
       "      <th></th>\n",
       "      <th></th>\n",
       "    </tr>\n",
       "  </thead>\n",
       "  <tbody>\n",
       "    <tr>\n",
       "      <th>[Adobo-Marinated and Grilled Chicken, Pinto Beans, [Sour Cream, Salsa, Cheese, Cilantro-Lime Rice, Guacamole]]</th>\n",
       "      <td>214</td>\n",
       "      <td>1</td>\n",
       "    </tr>\n",
       "    <tr>\n",
       "      <th>[Adobo-Marinated and Grilled Chicken, [Sour Cream, Cheese, Cilantro-Lime Rice]]</th>\n",
       "      <td>279</td>\n",
       "      <td>1</td>\n",
       "    </tr>\n",
       "    <tr>\n",
       "      <th>[Adobo-Marinated and Grilled Chicken]</th>\n",
       "      <td>217</td>\n",
       "      <td>1</td>\n",
       "    </tr>\n",
       "    <tr>\n",
       "      <th>[Adobo-Marinated and Grilled Steak, [Sour Cream, Salsa, Cheese, Cilantro-Lime Rice, Guacamole]]</th>\n",
       "      <td>279</td>\n",
       "      <td>1</td>\n",
       "    </tr>\n",
       "    <tr>\n",
       "      <th>[Adobo-Marinated and Grilled Steak]</th>\n",
       "      <td>217</td>\n",
       "      <td>1</td>\n",
       "    </tr>\n",
       "    <tr>\n",
       "      <th>[Apple]</th>\n",
       "      <td>3966</td>\n",
       "      <td>6</td>\n",
       "    </tr>\n",
       "    <tr>\n",
       "      <th>[Blackberry]</th>\n",
       "      <td>5220</td>\n",
       "      <td>8</td>\n",
       "    </tr>\n",
       "    <tr>\n",
       "      <th>[Braised Barbacoa, Pinto Beans, [Sour Cream, Salsa, Cheese, Cilantro-Lime Rice, Guacamole]]</th>\n",
       "      <td>217</td>\n",
       "      <td>1</td>\n",
       "    </tr>\n",
       "    <tr>\n",
       "      <th>[Braised Barbacoa, Vegetarian Black Beans, [Sour Cream, Salsa, Cheese, Cilantro-Lime Rice]]</th>\n",
       "      <td>214</td>\n",
       "      <td>1</td>\n",
       "    </tr>\n",
       "    <tr>\n",
       "      <th>[Braised Carnitas, Pinto Beans, [Sour Cream, Cheese, Cilantro-Lime Rice]]</th>\n",
       "      <td>193</td>\n",
       "      <td>3</td>\n",
       "    </tr>\n",
       "  </tbody>\n",
       "</table>\n",
       "</div>"
      ],
      "text/plain": [
       "                                                    order_id  quantity\n",
       "choice_description                                                    \n",
       "[Adobo-Marinated and Grilled Chicken, Pinto Bea...       214         1\n",
       "[Adobo-Marinated and Grilled Chicken, [Sour Cre...       279         1\n",
       "[Adobo-Marinated and Grilled Chicken]                    217         1\n",
       "[Adobo-Marinated and Grilled Steak, [Sour Cream...       279         1\n",
       "[Adobo-Marinated and Grilled Steak]                      217         1\n",
       "[Apple]                                                 3966         6\n",
       "[Blackberry]                                            5220         8\n",
       "[Braised Barbacoa, Pinto Beans, [Sour Cream, Sa...       217         1\n",
       "[Braised Barbacoa, Vegetarian Black Beans, [Sou...       214         1\n",
       "[Braised Carnitas, Pinto Beans, [Sour Cream, Ch...       193         3"
      ]
     },
     "execution_count": 13,
     "metadata": {},
     "output_type": "execute_result"
    }
   ],
   "source": [
    "choice = chipo.groupby('choice_description')\n",
    "choice = choice.sum()\n",
    "choice.head(10)"
   ]
  },
  {
   "cell_type": "markdown",
   "metadata": {},
   "source": [
    "### Step 12. How many items were orderd in total?"
   ]
  },
  {
   "cell_type": "code",
   "execution_count": 14,
   "metadata": {},
   "outputs": [
    {
     "data": {
      "text/html": [
       "<div>\n",
       "<style scoped>\n",
       "    .dataframe tbody tr th:only-of-type {\n",
       "        vertical-align: middle;\n",
       "    }\n",
       "\n",
       "    .dataframe tbody tr th {\n",
       "        vertical-align: top;\n",
       "    }\n",
       "\n",
       "    .dataframe thead th {\n",
       "        text-align: right;\n",
       "    }\n",
       "</style>\n",
       "<table border=\"1\" class=\"dataframe\">\n",
       "  <thead>\n",
       "    <tr style=\"text-align: right;\">\n",
       "      <th></th>\n",
       "      <th>order_id</th>\n",
       "      <th>quantity</th>\n",
       "    </tr>\n",
       "    <tr>\n",
       "      <th>choice_description</th>\n",
       "      <th></th>\n",
       "      <th></th>\n",
       "    </tr>\n",
       "  </thead>\n",
       "  <tbody>\n",
       "    <tr>\n",
       "      <th>[Diet Coke]</th>\n",
       "      <td>123455</td>\n",
       "      <td>159</td>\n",
       "    </tr>\n",
       "    <tr>\n",
       "      <th>[Coke]</th>\n",
       "      <td>122752</td>\n",
       "      <td>143</td>\n",
       "    </tr>\n",
       "    <tr>\n",
       "      <th>[Sprite]</th>\n",
       "      <td>80426</td>\n",
       "      <td>89</td>\n",
       "    </tr>\n",
       "  </tbody>\n",
       "</table>\n",
       "</div>"
      ],
      "text/plain": [
       "                    order_id  quantity\n",
       "choice_description                    \n",
       "[Diet Coke]           123455       159\n",
       "[Coke]                122752       143\n",
       "[Sprite]               80426        89"
      ]
     },
     "execution_count": 14,
     "metadata": {},
     "output_type": "execute_result"
    }
   ],
   "source": [
    "choice = choice.sort_values(['quantity'], ascending=False)\n",
    "choice.head(3)"
   ]
  },
  {
   "cell_type": "markdown",
   "metadata": {},
   "source": [
    "### Step 13. Turn the item price into a float"
   ]
  },
  {
   "cell_type": "markdown",
   "metadata": {},
   "source": [
    "#### Step 13.a. Check the item price type"
   ]
  },
  {
   "cell_type": "code",
   "execution_count": 15,
   "metadata": {},
   "outputs": [
    {
     "data": {
      "text/plain": [
       "dtype('O')"
      ]
     },
     "execution_count": 15,
     "metadata": {},
     "output_type": "execute_result"
    }
   ],
   "source": [
    "chipo.item_price.dtype"
   ]
  },
  {
   "cell_type": "markdown",
   "metadata": {},
   "source": [
    "#### Step 13.b. Create a lambda function and change the type of item price"
   ]
  },
  {
   "cell_type": "code",
   "execution_count": 16,
   "metadata": {},
   "outputs": [],
   "source": [
    "converter = lambda x:float(x[1:-1])\n",
    "chipo.item_price = chipo.item_price.apply(converter)"
   ]
  },
  {
   "cell_type": "markdown",
   "metadata": {},
   "source": [
    "#### Step 13.c. Check the item price type"
   ]
  },
  {
   "cell_type": "code",
   "execution_count": 17,
   "metadata": {},
   "outputs": [
    {
     "data": {
      "text/plain": [
       "dtype('float64')"
      ]
     },
     "execution_count": 17,
     "metadata": {},
     "output_type": "execute_result"
    }
   ],
   "source": [
    "chipo.item_price.dtype"
   ]
  },
  {
   "cell_type": "markdown",
   "metadata": {},
   "source": [
    "### Step 14. How much was the revenue for the period in the dataset?"
   ]
  },
  {
   "cell_type": "code",
   "execution_count": 18,
   "metadata": {},
   "outputs": [
    {
     "name": "stdout",
     "output_type": "stream",
     "text": [
      "0     2.39\n",
      "1     3.39\n",
      "2     3.39\n",
      "3     2.39\n",
      "4    16.98\n",
      "Name: item_price, dtype: float64\n",
      "0    1\n",
      "1    1\n",
      "2    1\n",
      "3    1\n",
      "4    2\n",
      "Name: quantity, dtype: int64\n",
      "0     2.39\n",
      "1     3.39\n",
      "2     3.39\n",
      "3     2.39\n",
      "4    33.96\n",
      "dtype: float64\n",
      "39237.02\n"
     ]
    }
   ],
   "source": [
    "prices = chipo['item_price']\n",
    "print(prices.head())\n",
    "quantity = chipo['quantity']\n",
    "print(quantity.head())\n",
    "revenue_per_item = prices * quantity\n",
    "print(revenue_per_item.head())\n",
    "revenue = revenue_per_item.sum()\n",
    "print(revenue)"
   ]
  },
  {
   "cell_type": "markdown",
   "metadata": {},
   "source": [
    "### Step 15. How many orders were made in the period?"
   ]
  },
  {
   "cell_type": "code",
   "execution_count": 19,
   "metadata": {},
   "outputs": [
    {
     "data": {
      "text/plain": [
       "1834"
      ]
     },
     "execution_count": 19,
     "metadata": {},
     "output_type": "execute_result"
    }
   ],
   "source": [
    "# what defines an order? number of order_ids!\n",
    "orders = chipo['order_id']\n",
    "unique_orders = set(orders)\n",
    "len(unique_orders)\n",
    "\n",
    "# or simply use\n",
    "# chipo.order_id.value_counts().count()"
   ]
  },
  {
   "cell_type": "markdown",
   "metadata": {},
   "source": [
    "### Step 16. What is the average revenue per order?"
   ]
  },
  {
   "cell_type": "code",
   "execution_count": 20,
   "metadata": {},
   "outputs": [
    {
     "data": {
      "text/html": [
       "<div>\n",
       "<style scoped>\n",
       "    .dataframe tbody tr th:only-of-type {\n",
       "        vertical-align: middle;\n",
       "    }\n",
       "\n",
       "    .dataframe tbody tr th {\n",
       "        vertical-align: top;\n",
       "    }\n",
       "\n",
       "    .dataframe thead th {\n",
       "        text-align: right;\n",
       "    }\n",
       "</style>\n",
       "<table border=\"1\" class=\"dataframe\">\n",
       "  <thead>\n",
       "    <tr style=\"text-align: right;\">\n",
       "      <th></th>\n",
       "      <th>order_id</th>\n",
       "      <th>quantity</th>\n",
       "      <th>item_name</th>\n",
       "      <th>choice_description</th>\n",
       "      <th>item_price</th>\n",
       "      <th>revenue</th>\n",
       "    </tr>\n",
       "  </thead>\n",
       "  <tbody>\n",
       "    <tr>\n",
       "      <th>0</th>\n",
       "      <td>1</td>\n",
       "      <td>1</td>\n",
       "      <td>Chips and Fresh Tomato Salsa</td>\n",
       "      <td>NaN</td>\n",
       "      <td>2.39</td>\n",
       "      <td>2.39</td>\n",
       "    </tr>\n",
       "    <tr>\n",
       "      <th>1</th>\n",
       "      <td>1</td>\n",
       "      <td>1</td>\n",
       "      <td>Izze</td>\n",
       "      <td>[Clementine]</td>\n",
       "      <td>3.39</td>\n",
       "      <td>3.39</td>\n",
       "    </tr>\n",
       "    <tr>\n",
       "      <th>2</th>\n",
       "      <td>1</td>\n",
       "      <td>1</td>\n",
       "      <td>Nantucket Nectar</td>\n",
       "      <td>[Apple]</td>\n",
       "      <td>3.39</td>\n",
       "      <td>3.39</td>\n",
       "    </tr>\n",
       "    <tr>\n",
       "      <th>3</th>\n",
       "      <td>1</td>\n",
       "      <td>1</td>\n",
       "      <td>Chips and Tomatillo-Green Chili Salsa</td>\n",
       "      <td>NaN</td>\n",
       "      <td>2.39</td>\n",
       "      <td>2.39</td>\n",
       "    </tr>\n",
       "    <tr>\n",
       "      <th>4</th>\n",
       "      <td>2</td>\n",
       "      <td>2</td>\n",
       "      <td>Chicken Bowl</td>\n",
       "      <td>[Tomatillo-Red Chili Salsa (Hot), [Black Beans...</td>\n",
       "      <td>16.98</td>\n",
       "      <td>33.96</td>\n",
       "    </tr>\n",
       "  </tbody>\n",
       "</table>\n",
       "</div>"
      ],
      "text/plain": [
       "   order_id  quantity                              item_name  \\\n",
       "0         1         1           Chips and Fresh Tomato Salsa   \n",
       "1         1         1                                   Izze   \n",
       "2         1         1                       Nantucket Nectar   \n",
       "3         1         1  Chips and Tomatillo-Green Chili Salsa   \n",
       "4         2         2                           Chicken Bowl   \n",
       "\n",
       "                                  choice_description  item_price  revenue  \n",
       "0                                                NaN        2.39     2.39  \n",
       "1                                       [Clementine]        3.39     3.39  \n",
       "2                                            [Apple]        3.39     3.39  \n",
       "3                                                NaN        2.39     2.39  \n",
       "4  [Tomatillo-Red Chili Salsa (Hot), [Black Beans...       16.98    33.96  "
      ]
     },
     "execution_count": 20,
     "metadata": {},
     "output_type": "execute_result"
    }
   ],
   "source": [
    "# Solution 1\n",
    "chipo['revenue'] = chipo['quantity'] * chipo['item_price']\n",
    "chipo.head()"
   ]
  },
  {
   "cell_type": "code",
   "execution_count": 21,
   "metadata": {},
   "outputs": [
    {
     "data": {
      "text/plain": [
       "8.48918649935093"
      ]
     },
     "execution_count": 21,
     "metadata": {},
     "output_type": "execute_result"
    }
   ],
   "source": [
    "chipo['revenue'].mean() # this is wrong and underestimated because there are multiple rows with the same order_id"
   ]
  },
  {
   "cell_type": "code",
   "execution_count": 42,
   "metadata": {},
   "outputs": [
    {
     "name": "stdout",
     "output_type": "stream",
     "text": [
      "          quantity  item_price  revenue\n",
      "order_id                               \n",
      "1                4       11.56    11.56\n",
      "2                2       16.98    33.96\n",
      "3                2       12.67    12.67\n",
      "4                2       21.00    21.00\n",
      "5                2       13.70    13.70\n",
      "21.39423118865867\n",
      "18.811428571428568\n"
     ]
    }
   ],
   "source": [
    "order_grouped = chipo.groupby('order_id').sum() # now we have\n",
    "print(order_grouped.head())\n",
    "print(order_grouped['revenue'].mean())\n",
    "print(order_grouped['item_price'].mean())"
   ]
  },
  {
   "cell_type": "code",
   "execution_count": null,
   "metadata": {},
   "outputs": [],
   "source": [
    "# Solution 2\n"
   ]
  },
  {
   "cell_type": "markdown",
   "metadata": {},
   "source": [
    "### Step 17. How many different items are sold?"
   ]
  },
  {
   "cell_type": "code",
   "execution_count": 54,
   "metadata": {},
   "outputs": [
    {
     "data": {
      "text/plain": [
       "4622"
      ]
     },
     "execution_count": 54,
     "metadata": {},
     "output_type": "execute_result"
    }
   ],
   "source": [
    "chipo.item_name.count()"
   ]
  }
 ],
 "metadata": {
  "anaconda-cloud": {},
  "kernelspec": {
   "display_name": "Python 3",
   "language": "python",
   "name": "python3"
  },
  "language_info": {
   "codemirror_mode": {
    "name": "ipython",
    "version": 3
   },
   "file_extension": ".py",
   "mimetype": "text/x-python",
   "name": "python",
   "nbconvert_exporter": "python",
   "pygments_lexer": "ipython3",
   "version": "3.5.4"
  }
 },
 "nbformat": 4,
 "nbformat_minor": 1
}
